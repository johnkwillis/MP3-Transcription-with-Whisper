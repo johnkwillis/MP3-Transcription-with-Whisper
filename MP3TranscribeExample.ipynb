{
 "cells": [
  {
   "cell_type": "code",
   "execution_count": 1,
   "id": "standing-retro",
   "metadata": {},
   "outputs": [],
   "source": [
    "import pandas as pd\n",
    "import whisper_transcription as wt"
   ]
  },
  {
   "cell_type": "code",
   "execution_count": 2,
   "id": "burning-scholarship",
   "metadata": {},
   "outputs": [],
   "source": [
    "# Give everyone an equal subset to make things efficient\n",
    "import random\n",
    "ls = list(range(728))\n",
    "\n",
    "ani = random.sample(ls[0:182], 50)\n",
    "\n",
    "sky = random.sample(ls[182:364], 50)\n",
    "\n",
    "mac = random.sample(ls[364:546], 50)\n",
    "\n",
    "john = random.sample(ls[546:], 50)"
   ]
  },
  {
   "cell_type": "code",
   "execution_count": 3,
   "id": "sitting-holiday",
   "metadata": {},
   "outputs": [],
   "source": [
    "# Import data and create subset\n",
    "data = pd.read_csv('data/PoliticalPodsMaster.csv')\n",
    "psa_data = data[data['Show Name'] == 'Pod Save America'].reset_index(drop=True)\n",
    "john_urls = list(psa_data['Audio URL'][john]) # replace with your name"
   ]
  },
  {
   "cell_type": "code",
   "execution_count": null,
   "id": "consistent-uganda",
   "metadata": {},
   "outputs": [
    {
     "name": "stdout",
     "output_type": "stream",
     "text": [
      "1 out of 2 podcasts transcribed in this batch.\r"
     ]
    }
   ],
   "source": [
    "df = wt.MP3Transcribe(john_urls[:2]) # replace with yourname_urls"
   ]
  },
  {
   "cell_type": "code",
   "execution_count": null,
   "id": "passing-value",
   "metadata": {},
   "outputs": [],
   "source": [
    "df"
   ]
  },
  {
   "cell_type": "code",
   "execution_count": null,
   "id": "personal-weekly",
   "metadata": {},
   "outputs": [],
   "source": []
  }
 ],
 "metadata": {
  "kernelspec": {
   "display_name": "Python 3",
   "language": "python",
   "name": "python3"
  },
  "language_info": {
   "codemirror_mode": {
    "name": "ipython",
    "version": 3
   },
   "file_extension": ".py",
   "mimetype": "text/x-python",
   "name": "python",
   "nbconvert_exporter": "python",
   "pygments_lexer": "ipython3",
   "version": "3.8.5"
  }
 },
 "nbformat": 4,
 "nbformat_minor": 5
}
